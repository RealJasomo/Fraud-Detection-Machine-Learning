{
 "cells": [
  {
   "cell_type": "code",
   "execution_count": 255,
   "id": "1c467746",
   "metadata": {},
   "outputs": [],
   "source": [
    "import pandas as pd\n",
    "import numpy as np\n",
    "import tensorflow as tf\n",
    "\n",
    "SHUFF_BUFFER = 500\n",
    "BATCH_SIZE = 2"
   ]
  },
  {
   "cell_type": "code",
   "execution_count": 256,
   "id": "ecd99588",
   "metadata": {},
   "outputs": [
    {
     "data": {
      "text/html": [
       "<div>\n",
       "<style scoped>\n",
       "    .dataframe tbody tr th:only-of-type {\n",
       "        vertical-align: middle;\n",
       "    }\n",
       "\n",
       "    .dataframe tbody tr th {\n",
       "        vertical-align: top;\n",
       "    }\n",
       "\n",
       "    .dataframe thead th {\n",
       "        text-align: right;\n",
       "    }\n",
       "</style>\n",
       "<table border=\"1\" class=\"dataframe\">\n",
       "  <thead>\n",
       "    <tr style=\"text-align: right;\">\n",
       "      <th></th>\n",
       "      <th>Time</th>\n",
       "      <th>V1</th>\n",
       "      <th>V2</th>\n",
       "      <th>V3</th>\n",
       "      <th>V4</th>\n",
       "      <th>V5</th>\n",
       "      <th>V6</th>\n",
       "      <th>V7</th>\n",
       "      <th>V8</th>\n",
       "      <th>V9</th>\n",
       "      <th>...</th>\n",
       "      <th>V21</th>\n",
       "      <th>V22</th>\n",
       "      <th>V23</th>\n",
       "      <th>V24</th>\n",
       "      <th>V25</th>\n",
       "      <th>V26</th>\n",
       "      <th>V27</th>\n",
       "      <th>V28</th>\n",
       "      <th>Amount</th>\n",
       "      <th>Class</th>\n",
       "    </tr>\n",
       "  </thead>\n",
       "  <tbody>\n",
       "    <tr>\n",
       "      <th>0</th>\n",
       "      <td>0.0</td>\n",
       "      <td>-1.359807</td>\n",
       "      <td>-0.072781</td>\n",
       "      <td>2.536347</td>\n",
       "      <td>1.378155</td>\n",
       "      <td>-0.338321</td>\n",
       "      <td>0.462388</td>\n",
       "      <td>0.239599</td>\n",
       "      <td>0.098698</td>\n",
       "      <td>0.363787</td>\n",
       "      <td>...</td>\n",
       "      <td>-0.018307</td>\n",
       "      <td>0.277838</td>\n",
       "      <td>-0.110474</td>\n",
       "      <td>0.066928</td>\n",
       "      <td>0.128539</td>\n",
       "      <td>-0.189115</td>\n",
       "      <td>0.133558</td>\n",
       "      <td>-0.021053</td>\n",
       "      <td>149.62</td>\n",
       "      <td>0</td>\n",
       "    </tr>\n",
       "    <tr>\n",
       "      <th>1</th>\n",
       "      <td>0.0</td>\n",
       "      <td>1.191857</td>\n",
       "      <td>0.266151</td>\n",
       "      <td>0.166480</td>\n",
       "      <td>0.448154</td>\n",
       "      <td>0.060018</td>\n",
       "      <td>-0.082361</td>\n",
       "      <td>-0.078803</td>\n",
       "      <td>0.085102</td>\n",
       "      <td>-0.255425</td>\n",
       "      <td>...</td>\n",
       "      <td>-0.225775</td>\n",
       "      <td>-0.638672</td>\n",
       "      <td>0.101288</td>\n",
       "      <td>-0.339846</td>\n",
       "      <td>0.167170</td>\n",
       "      <td>0.125895</td>\n",
       "      <td>-0.008983</td>\n",
       "      <td>0.014724</td>\n",
       "      <td>2.69</td>\n",
       "      <td>0</td>\n",
       "    </tr>\n",
       "    <tr>\n",
       "      <th>2</th>\n",
       "      <td>1.0</td>\n",
       "      <td>-1.358354</td>\n",
       "      <td>-1.340163</td>\n",
       "      <td>1.773209</td>\n",
       "      <td>0.379780</td>\n",
       "      <td>-0.503198</td>\n",
       "      <td>1.800499</td>\n",
       "      <td>0.791461</td>\n",
       "      <td>0.247676</td>\n",
       "      <td>-1.514654</td>\n",
       "      <td>...</td>\n",
       "      <td>0.247998</td>\n",
       "      <td>0.771679</td>\n",
       "      <td>0.909412</td>\n",
       "      <td>-0.689281</td>\n",
       "      <td>-0.327642</td>\n",
       "      <td>-0.139097</td>\n",
       "      <td>-0.055353</td>\n",
       "      <td>-0.059752</td>\n",
       "      <td>378.66</td>\n",
       "      <td>0</td>\n",
       "    </tr>\n",
       "  </tbody>\n",
       "</table>\n",
       "<p>3 rows × 31 columns</p>\n",
       "</div>"
      ],
      "text/plain": [
       "   Time        V1        V2        V3        V4        V5        V6        V7  \\\n",
       "0   0.0 -1.359807 -0.072781  2.536347  1.378155 -0.338321  0.462388  0.239599   \n",
       "1   0.0  1.191857  0.266151  0.166480  0.448154  0.060018 -0.082361 -0.078803   \n",
       "2   1.0 -1.358354 -1.340163  1.773209  0.379780 -0.503198  1.800499  0.791461   \n",
       "\n",
       "         V8        V9  ...       V21       V22       V23       V24       V25  \\\n",
       "0  0.098698  0.363787  ... -0.018307  0.277838 -0.110474  0.066928  0.128539   \n",
       "1  0.085102 -0.255425  ... -0.225775 -0.638672  0.101288 -0.339846  0.167170   \n",
       "2  0.247676 -1.514654  ...  0.247998  0.771679  0.909412 -0.689281 -0.327642   \n",
       "\n",
       "        V26       V27       V28  Amount  Class  \n",
       "0 -0.189115  0.133558 -0.021053  149.62      0  \n",
       "1  0.125895 -0.008983  0.014724    2.69      0  \n",
       "2 -0.139097 -0.055353 -0.059752  378.66      0  \n",
       "\n",
       "[3 rows x 31 columns]"
      ]
     },
     "execution_count": 256,
     "metadata": {},
     "output_type": "execute_result"
    }
   ],
   "source": [
    "df = pd.read_csv('../datasets/creditcard.csv')\n",
    "df.head(3)"
   ]
  },
  {
   "cell_type": "code",
   "execution_count": 257,
   "id": "8a7f1158",
   "metadata": {},
   "outputs": [
    {
     "data": {
      "text/plain": [
       "(284807, 31)"
      ]
     },
     "execution_count": 257,
     "metadata": {},
     "output_type": "execute_result"
    }
   ],
   "source": [
    "df.shape"
   ]
  },
  {
   "cell_type": "code",
   "execution_count": 258,
   "id": "831b4b8e",
   "metadata": {},
   "outputs": [],
   "source": [
    "from sklearn.model_selection import train_test_split"
   ]
  },
  {
   "cell_type": "code",
   "execution_count": 328,
   "id": "0f026391",
   "metadata": {},
   "outputs": [
    {
     "data": {
      "text/plain": [
       "1    492\n",
       "0    492\n",
       "Name: Class, dtype: int64"
      ]
     },
     "execution_count": 328,
     "metadata": {},
     "output_type": "execute_result"
    }
   ],
   "source": [
    "# Balance the data\n",
    "fraud = df[df.Class == 1]\n",
    "not_fraud = df[df.Class==0]\n",
    "not_fraud = not_fraud.sample(n=fraud.shape[0])\n",
    "df = pd.concat([fraud,not_fraud], axis=0)\n",
    "df.Class.value_counts()"
   ]
  },
  {
   "cell_type": "code",
   "execution_count": 329,
   "id": "610d8c47",
   "metadata": {},
   "outputs": [],
   "source": [
    "X = df.iloc[:, :-1]\n",
    "X.Amount = (X.Amount - X.Amount.mean())/X.Amount.std()\n",
    "y = df.iloc[:, -1]"
   ]
  },
  {
   "cell_type": "code",
   "execution_count": 360,
   "id": "fcf66a85",
   "metadata": {},
   "outputs": [],
   "source": [
    "X_train, X_test, y_train, y_test = train_test_split(X, y, test_size=0.1, random_state=0, stratify=df.Class)"
   ]
  },
  {
   "cell_type": "code",
   "execution_count": 361,
   "id": "d319a538",
   "metadata": {},
   "outputs": [
    {
     "data": {
      "text/plain": [
       "1    492\n",
       "0    492\n",
       "Name: Class, dtype: int64"
      ]
     },
     "execution_count": 361,
     "metadata": {},
     "output_type": "execute_result"
    }
   ],
   "source": [
    "# 0 is non-fraud 1 is fraud\n",
    "y.value_counts()"
   ]
  },
  {
   "cell_type": "code",
   "execution_count": 362,
   "id": "45d5b835",
   "metadata": {},
   "outputs": [
    {
     "data": {
      "text/plain": [
       "(885, 30)"
      ]
     },
     "execution_count": 362,
     "metadata": {},
     "output_type": "execute_result"
    }
   ],
   "source": [
    "X_train.shape"
   ]
  },
  {
   "cell_type": "code",
   "execution_count": 363,
   "id": "fd2f6b00",
   "metadata": {},
   "outputs": [],
   "source": [
    "X_train = X_train.to_numpy()\n",
    "X_test = X_test.to_numpy()"
   ]
  },
  {
   "cell_type": "code",
   "execution_count": 364,
   "id": "ebc26a26",
   "metadata": {},
   "outputs": [],
   "source": [
    "y_train = y_train.to_numpy()\n",
    "y_test = y_test.to_numpy()"
   ]
  },
  {
   "cell_type": "code",
   "execution_count": 365,
   "id": "38e8146c",
   "metadata": {},
   "outputs": [],
   "source": [
    "X_train = X_train.reshape(X_train.shape[0], X_train.shape[1], 1)\n",
    "X_test = X_test.reshape(X_test.shape[0], X_test.shape[1], 1)\n"
   ]
  },
  {
   "cell_type": "code",
   "execution_count": 368,
   "id": "276035d1",
   "metadata": {},
   "outputs": [],
   "source": [
    "def get_model():\n",
    "    model = tf.keras.Sequential([\n",
    "        tf.keras.layers.Input(X_train[0].shape),\n",
    "        tf.keras.layers.Conv1D(256,5, activation='relu'),\n",
    "        tf.keras.layers.MaxPool1D(pool_size=2),\n",
    "        tf.keras.layers.BatchNormalization(),\n",
    "        tf.keras.layers.Dropout(0.2),\n",
    "        tf.keras.layers.Conv1D(128,5, activation='relu'),\n",
    "        tf.keras.layers.MaxPool1D(pool_size=2),\n",
    "        tf.keras.layers.BatchNormalization(),\n",
    "        tf.keras.layers.Dropout(0.5),\n",
    "        tf.keras.layers.Flatten(),\n",
    "        tf.keras.layers.Dense(1024, activation='relu'),\n",
    "        tf.keras.layers.Dense(1, activation='sigmoid')\n",
    "    ])\n",
    "    model.compile(optimizer='adam',\n",
    "                 loss=tf.keras.losses.BinaryCrossentropy(from_logits=True),\n",
    "                 metrics=['accuracy'])\n",
    "    return model"
   ]
  },
  {
   "cell_type": "code",
   "execution_count": 369,
   "id": "cd7e0b4b",
   "metadata": {},
   "outputs": [
    {
     "name": "stdout",
     "output_type": "stream",
     "text": [
      "Epoch 1/200\n",
      "398/398 [==============================] - 2s 3ms/step - loss: 0.5660 - accuracy: 0.8410 - val_loss: 0.2736 - val_accuracy: 0.9101\n",
      "Epoch 2/200\n",
      "398/398 [==============================] - 1s 3ms/step - loss: 0.2514 - accuracy: 0.9035 - val_loss: 0.1810 - val_accuracy: 0.9551\n",
      "Epoch 3/200\n",
      "398/398 [==============================] - 1s 2ms/step - loss: 0.2105 - accuracy: 0.9252 - val_loss: 0.1981 - val_accuracy: 0.9438\n",
      "Epoch 4/200\n",
      "398/398 [==============================] - 1s 3ms/step - loss: 0.1831 - accuracy: 0.9361 - val_loss: 0.1634 - val_accuracy: 0.9438\n",
      "Epoch 5/200\n",
      "398/398 [==============================] - 1s 3ms/step - loss: 0.2154 - accuracy: 0.9011 - val_loss: 0.2280 - val_accuracy: 0.8764\n",
      "Epoch 6/200\n",
      "398/398 [==============================] - 1s 2ms/step - loss: 0.1604 - accuracy: 0.9327 - val_loss: 0.1288 - val_accuracy: 0.9663\n",
      "Epoch 7/200\n",
      "398/398 [==============================] - 1s 3ms/step - loss: 0.2093 - accuracy: 0.9237 - val_loss: 0.1628 - val_accuracy: 0.9438\n",
      "Epoch 8/200\n",
      "398/398 [==============================] - 1s 2ms/step - loss: 0.1772 - accuracy: 0.9231 - val_loss: 0.1632 - val_accuracy: 0.9438\n",
      "Epoch 9/200\n",
      "398/398 [==============================] - 1s 3ms/step - loss: 0.1960 - accuracy: 0.9129 - val_loss: 0.1775 - val_accuracy: 0.9438\n",
      "Epoch 10/200\n",
      "398/398 [==============================] - 1s 3ms/step - loss: 0.1977 - accuracy: 0.9361 - val_loss: 0.1238 - val_accuracy: 0.9775\n",
      "Epoch 11/200\n",
      "398/398 [==============================] - 1s 3ms/step - loss: 0.1679 - accuracy: 0.9383 - val_loss: 0.1196 - val_accuracy: 0.9663\n",
      "Epoch 12/200\n",
      "398/398 [==============================] - 1s 2ms/step - loss: 0.1728 - accuracy: 0.9356 - val_loss: 0.1278 - val_accuracy: 0.9663\n",
      "Epoch 13/200\n",
      "398/398 [==============================] - 1s 2ms/step - loss: 0.1529 - accuracy: 0.9402 - val_loss: 0.1503 - val_accuracy: 0.9663\n",
      "Epoch 14/200\n",
      "398/398 [==============================] - 1s 3ms/step - loss: 0.1406 - accuracy: 0.9593 - val_loss: 0.1215 - val_accuracy: 0.9775\n",
      "Epoch 15/200\n",
      "398/398 [==============================] - 1s 3ms/step - loss: 0.1726 - accuracy: 0.9299 - val_loss: 0.1266 - val_accuracy: 0.9888\n",
      "Epoch 16/200\n",
      "398/398 [==============================] - 1s 2ms/step - loss: 0.1121 - accuracy: 0.9476 - val_loss: 0.1160 - val_accuracy: 0.9663\n",
      "Epoch 17/200\n",
      "398/398 [==============================] - 1s 2ms/step - loss: 0.1298 - accuracy: 0.9429 - val_loss: 0.1259 - val_accuracy: 0.9663\n",
      "Epoch 18/200\n",
      "398/398 [==============================] - 1s 2ms/step - loss: 0.1618 - accuracy: 0.9403 - val_loss: 0.1925 - val_accuracy: 0.9438\n",
      "Epoch 19/200\n",
      "398/398 [==============================] - 1s 2ms/step - loss: 0.1448 - accuracy: 0.9369 - val_loss: 0.1743 - val_accuracy: 0.9551\n",
      "Epoch 20/200\n",
      "398/398 [==============================] - 1s 2ms/step - loss: 0.1611 - accuracy: 0.9461 - val_loss: 0.1737 - val_accuracy: 0.9213\n",
      "Epoch 21/200\n",
      "398/398 [==============================] - 1s 2ms/step - loss: 0.1206 - accuracy: 0.9615 - val_loss: 0.1423 - val_accuracy: 0.9551\n",
      "Epoch 22/200\n",
      "398/398 [==============================] - 1s 3ms/step - loss: 0.1540 - accuracy: 0.9427 - val_loss: 0.1266 - val_accuracy: 0.9663\n",
      "Epoch 23/200\n",
      "398/398 [==============================] - 1s 3ms/step - loss: 0.1084 - accuracy: 0.9564 - val_loss: 0.1251 - val_accuracy: 0.9438\n",
      "Epoch 24/200\n",
      "398/398 [==============================] - 1s 3ms/step - loss: 0.0894 - accuracy: 0.9608 - val_loss: 0.1129 - val_accuracy: 0.9775\n",
      "Epoch 25/200\n",
      "398/398 [==============================] - 1s 3ms/step - loss: 0.1226 - accuracy: 0.9599 - val_loss: 0.1229 - val_accuracy: 0.9663\n",
      "Epoch 26/200\n",
      "398/398 [==============================] - 1s 3ms/step - loss: 0.1287 - accuracy: 0.9609 - val_loss: 0.1372 - val_accuracy: 0.9775\n",
      "Epoch 27/200\n",
      "398/398 [==============================] - 1s 3ms/step - loss: 0.0914 - accuracy: 0.9723 - val_loss: 0.1257 - val_accuracy: 0.9663\n",
      "Epoch 28/200\n",
      "398/398 [==============================] - 1s 3ms/step - loss: 0.1027 - accuracy: 0.9624 - val_loss: 0.1144 - val_accuracy: 0.9551\n",
      "Epoch 29/200\n",
      "398/398 [==============================] - 1s 3ms/step - loss: 0.0765 - accuracy: 0.9632 - val_loss: 0.1309 - val_accuracy: 0.9551\n",
      "Epoch 30/200\n",
      "398/398 [==============================] - 1s 3ms/step - loss: 0.0969 - accuracy: 0.9618 - val_loss: 0.1041 - val_accuracy: 0.9663\n",
      "Epoch 31/200\n",
      "398/398 [==============================] - 1s 3ms/step - loss: 0.1586 - accuracy: 0.9613 - val_loss: 0.1476 - val_accuracy: 0.9551\n",
      "Epoch 32/200\n",
      "398/398 [==============================] - 1s 3ms/step - loss: 0.1221 - accuracy: 0.9593 - val_loss: 0.1912 - val_accuracy: 0.9551\n",
      "Epoch 33/200\n",
      "398/398 [==============================] - 1s 3ms/step - loss: 0.1257 - accuracy: 0.9487 - val_loss: 0.1859 - val_accuracy: 0.9438\n",
      "Epoch 34/200\n",
      "398/398 [==============================] - 1s 3ms/step - loss: 0.1188 - accuracy: 0.9534 - val_loss: 0.1116 - val_accuracy: 0.9775\n",
      "Epoch 35/200\n",
      "398/398 [==============================] - 1s 3ms/step - loss: 0.0936 - accuracy: 0.9652 - val_loss: 0.2024 - val_accuracy: 0.9551\n",
      "Epoch 36/200\n",
      "398/398 [==============================] - 1s 3ms/step - loss: 0.1059 - accuracy: 0.9573 - val_loss: 0.1267 - val_accuracy: 0.9663\n",
      "Epoch 37/200\n",
      "398/398 [==============================] - 1s 3ms/step - loss: 0.1052 - accuracy: 0.9627 - val_loss: 0.1248 - val_accuracy: 0.9663\n",
      "Epoch 38/200\n",
      "398/398 [==============================] - 1s 3ms/step - loss: 0.0693 - accuracy: 0.9757 - val_loss: 0.1573 - val_accuracy: 0.9551\n",
      "Epoch 39/200\n",
      "398/398 [==============================] - 1s 3ms/step - loss: 0.1003 - accuracy: 0.9513 - val_loss: 0.1443 - val_accuracy: 0.9551\n",
      "Epoch 40/200\n",
      "398/398 [==============================] - 1s 3ms/step - loss: 0.1021 - accuracy: 0.9674 - val_loss: 0.1577 - val_accuracy: 0.9438\n",
      "Epoch 41/200\n",
      "398/398 [==============================] - 1s 3ms/step - loss: 0.0733 - accuracy: 0.9785 - val_loss: 0.1604 - val_accuracy: 0.9438\n",
      "Epoch 42/200\n",
      "398/398 [==============================] - 1s 3ms/step - loss: 0.1108 - accuracy: 0.9601 - val_loss: 0.1243 - val_accuracy: 0.9775\n",
      "Epoch 43/200\n",
      "398/398 [==============================] - 1s 3ms/step - loss: 0.0808 - accuracy: 0.9766 - val_loss: 0.1964 - val_accuracy: 0.9326\n",
      "Epoch 44/200\n",
      "398/398 [==============================] - 1s 3ms/step - loss: 0.0708 - accuracy: 0.9748 - val_loss: 0.1353 - val_accuracy: 0.9663\n",
      "Epoch 45/200\n",
      "398/398 [==============================] - 1s 3ms/step - loss: 0.0850 - accuracy: 0.9622 - val_loss: 0.1235 - val_accuracy: 0.9551\n",
      "Epoch 46/200\n",
      "398/398 [==============================] - 1s 3ms/step - loss: 0.1126 - accuracy: 0.9585 - val_loss: 0.1530 - val_accuracy: 0.9551\n",
      "Epoch 47/200\n",
      "398/398 [==============================] - 1s 3ms/step - loss: 0.0952 - accuracy: 0.9617 - val_loss: 0.2203 - val_accuracy: 0.9551\n",
      "Epoch 48/200\n",
      "398/398 [==============================] - 2s 5ms/step - loss: 0.0766 - accuracy: 0.9772 - val_loss: 0.1525 - val_accuracy: 0.9663\n",
      "Epoch 49/200\n",
      "398/398 [==============================] - 2s 4ms/step - loss: 0.0725 - accuracy: 0.9773 - val_loss: 0.1433 - val_accuracy: 0.9663\n",
      "Epoch 50/200\n",
      "398/398 [==============================] - 1s 3ms/step - loss: 0.0764 - accuracy: 0.9728 - val_loss: 0.1132 - val_accuracy: 0.9438\n",
      "Epoch 51/200\n",
      "398/398 [==============================] - 1s 3ms/step - loss: 0.1494 - accuracy: 0.9563 - val_loss: 0.1869 - val_accuracy: 0.9438\n",
      "Epoch 52/200\n",
      "398/398 [==============================] - 1s 3ms/step - loss: 0.0628 - accuracy: 0.9810 - val_loss: 0.1469 - val_accuracy: 0.9438\n",
      "Epoch 53/200\n",
      "398/398 [==============================] - 2s 4ms/step - loss: 0.0722 - accuracy: 0.9665 - val_loss: 0.1837 - val_accuracy: 0.9551\n",
      "Epoch 54/200\n",
      "398/398 [==============================] - 1s 3ms/step - loss: 0.0663 - accuracy: 0.9749 - val_loss: 0.1609 - val_accuracy: 0.9551\n",
      "Epoch 55/200\n",
      "398/398 [==============================] - 1s 3ms/step - loss: 0.0920 - accuracy: 0.9687 - val_loss: 0.1814 - val_accuracy: 0.9438\n",
      "Epoch 56/200\n",
      "398/398 [==============================] - 1s 3ms/step - loss: 0.0623 - accuracy: 0.9719 - val_loss: 0.1993 - val_accuracy: 0.9551\n",
      "Epoch 57/200\n",
      "398/398 [==============================] - 1s 3ms/step - loss: 0.0488 - accuracy: 0.9795 - val_loss: 0.2214 - val_accuracy: 0.9663\n"
     ]
    },
    {
     "name": "stdout",
     "output_type": "stream",
     "text": [
      "Epoch 58/200\n",
      "398/398 [==============================] - 1s 3ms/step - loss: 0.0841 - accuracy: 0.9756 - val_loss: 0.1703 - val_accuracy: 0.9663\n",
      "Epoch 59/200\n",
      "398/398 [==============================] - 1s 3ms/step - loss: 0.1211 - accuracy: 0.9465 - val_loss: 0.1343 - val_accuracy: 0.9551\n",
      "Epoch 60/200\n",
      "398/398 [==============================] - 1s 3ms/step - loss: 0.0347 - accuracy: 0.9917 - val_loss: 0.1354 - val_accuracy: 0.9663\n",
      "Epoch 61/200\n",
      "398/398 [==============================] - 1s 2ms/step - loss: 0.0431 - accuracy: 0.9893 - val_loss: 0.2548 - val_accuracy: 0.9438\n",
      "Epoch 62/200\n",
      "398/398 [==============================] - 1s 2ms/step - loss: 0.1062 - accuracy: 0.9710 - val_loss: 0.1270 - val_accuracy: 0.9663\n",
      "Epoch 63/200\n",
      "398/398 [==============================] - 1s 3ms/step - loss: 0.0446 - accuracy: 0.9868 - val_loss: 0.1582 - val_accuracy: 0.9551\n",
      "Epoch 64/200\n",
      "398/398 [==============================] - 1s 3ms/step - loss: 0.1209 - accuracy: 0.9643 - val_loss: 0.1500 - val_accuracy: 0.9551\n",
      "Epoch 65/200\n",
      "398/398 [==============================] - 1s 2ms/step - loss: 0.0578 - accuracy: 0.9811 - val_loss: 0.1765 - val_accuracy: 0.9663\n",
      "Epoch 66/200\n",
      "398/398 [==============================] - 1s 3ms/step - loss: 0.0594 - accuracy: 0.9819 - val_loss: 0.1121 - val_accuracy: 0.9663\n",
      "Epoch 67/200\n",
      "398/398 [==============================] - 1s 3ms/step - loss: 0.0962 - accuracy: 0.9697 - val_loss: 0.2382 - val_accuracy: 0.9551\n",
      "Epoch 68/200\n",
      "398/398 [==============================] - 1s 3ms/step - loss: 0.1434 - accuracy: 0.9657 - val_loss: 0.1704 - val_accuracy: 0.9551\n",
      "Epoch 69/200\n",
      "398/398 [==============================] - 1s 3ms/step - loss: 0.0422 - accuracy: 0.9829 - val_loss: 0.1295 - val_accuracy: 0.9663\n",
      "Epoch 70/200\n",
      "398/398 [==============================] - 1s 2ms/step - loss: 0.0330 - accuracy: 0.9882 - val_loss: 0.1636 - val_accuracy: 0.9663\n",
      "Epoch 71/200\n",
      "398/398 [==============================] - 1s 2ms/step - loss: 0.0456 - accuracy: 0.9816 - val_loss: 0.1666 - val_accuracy: 0.9551\n",
      "Epoch 72/200\n",
      "398/398 [==============================] - 1s 2ms/step - loss: 0.0423 - accuracy: 0.9870 - val_loss: 0.1359 - val_accuracy: 0.9551\n",
      "Epoch 73/200\n",
      "398/398 [==============================] - 1s 3ms/step - loss: 0.0353 - accuracy: 0.9881 - val_loss: 0.1134 - val_accuracy: 0.9663\n",
      "Epoch 74/200\n",
      "398/398 [==============================] - 1s 3ms/step - loss: 0.0636 - accuracy: 0.9837 - val_loss: 0.1191 - val_accuracy: 0.9775\n",
      "Epoch 75/200\n",
      "398/398 [==============================] - 1s 3ms/step - loss: 0.0621 - accuracy: 0.9832 - val_loss: 0.1266 - val_accuracy: 0.9663\n",
      "Epoch 76/200\n",
      "398/398 [==============================] - 1s 3ms/step - loss: 0.0386 - accuracy: 0.9897 - val_loss: 0.1399 - val_accuracy: 0.9551\n",
      "Epoch 77/200\n",
      "398/398 [==============================] - 1s 3ms/step - loss: 0.0620 - accuracy: 0.9790 - val_loss: 0.1389 - val_accuracy: 0.9551\n",
      "Epoch 78/200\n",
      "398/398 [==============================] - 1s 3ms/step - loss: 0.0855 - accuracy: 0.9711 - val_loss: 0.1283 - val_accuracy: 0.9663\n",
      "Epoch 79/200\n",
      "398/398 [==============================] - 1s 2ms/step - loss: 0.0402 - accuracy: 0.9811 - val_loss: 0.1586 - val_accuracy: 0.9551\n",
      "Epoch 80/200\n",
      "398/398 [==============================] - 1s 2ms/step - loss: 0.0455 - accuracy: 0.9820 - val_loss: 0.1774 - val_accuracy: 0.9551\n",
      "Epoch 81/200\n",
      "398/398 [==============================] - 1s 2ms/step - loss: 0.0374 - accuracy: 0.9873 - val_loss: 0.1702 - val_accuracy: 0.9438\n",
      "Epoch 82/200\n",
      "398/398 [==============================] - 1s 3ms/step - loss: 0.0376 - accuracy: 0.9871 - val_loss: 0.1777 - val_accuracy: 0.9551\n",
      "Epoch 83/200\n",
      "398/398 [==============================] - 1s 3ms/step - loss: 0.0762 - accuracy: 0.9705 - val_loss: 0.2541 - val_accuracy: 0.8989\n",
      "Epoch 84/200\n",
      "398/398 [==============================] - 1s 3ms/step - loss: 0.0628 - accuracy: 0.9783 - val_loss: 0.1871 - val_accuracy: 0.9551\n",
      "Epoch 85/200\n",
      "398/398 [==============================] - 1s 3ms/step - loss: 0.0634 - accuracy: 0.9770 - val_loss: 0.1859 - val_accuracy: 0.9663\n",
      "Epoch 86/200\n",
      "398/398 [==============================] - 1s 3ms/step - loss: 0.0629 - accuracy: 0.9781 - val_loss: 0.1190 - val_accuracy: 0.9663\n",
      "Epoch 87/200\n",
      "398/398 [==============================] - 1s 3ms/step - loss: 0.0667 - accuracy: 0.9792 - val_loss: 0.1480 - val_accuracy: 0.9551\n",
      "Epoch 88/200\n",
      "398/398 [==============================] - 1s 3ms/step - loss: 0.0826 - accuracy: 0.9715 - val_loss: 0.1869 - val_accuracy: 0.9213\n",
      "Epoch 89/200\n",
      "398/398 [==============================] - 1s 3ms/step - loss: 0.0572 - accuracy: 0.9709 - val_loss: 0.1531 - val_accuracy: 0.9663\n",
      "Epoch 90/200\n",
      "398/398 [==============================] - 1s 3ms/step - loss: 0.0497 - accuracy: 0.9829 - val_loss: 0.1933 - val_accuracy: 0.9663\n",
      "Epoch 91/200\n",
      "398/398 [==============================] - 1s 3ms/step - loss: 0.0644 - accuracy: 0.9773 - val_loss: 0.1551 - val_accuracy: 0.9663\n",
      "Epoch 92/200\n",
      "398/398 [==============================] - 1s 3ms/step - loss: 0.0434 - accuracy: 0.9798 - val_loss: 0.1223 - val_accuracy: 0.9663\n",
      "Epoch 93/200\n",
      "398/398 [==============================] - 1s 3ms/step - loss: 0.0471 - accuracy: 0.9840 - val_loss: 0.1790 - val_accuracy: 0.9438\n",
      "Epoch 94/200\n",
      "398/398 [==============================] - 1s 3ms/step - loss: 0.0252 - accuracy: 0.9929 - val_loss: 0.1794 - val_accuracy: 0.9551\n",
      "Epoch 95/200\n",
      "398/398 [==============================] - 1s 3ms/step - loss: 0.0342 - accuracy: 0.9811 - val_loss: 0.1382 - val_accuracy: 0.9663\n",
      "Epoch 96/200\n",
      "398/398 [==============================] - 1s 3ms/step - loss: 0.0386 - accuracy: 0.9877 - val_loss: 0.1594 - val_accuracy: 0.9326\n",
      "Epoch 97/200\n",
      "398/398 [==============================] - 1s 3ms/step - loss: 0.0508 - accuracy: 0.9844 - val_loss: 0.1280 - val_accuracy: 0.9663\n",
      "Epoch 98/200\n",
      "398/398 [==============================] - 1s 3ms/step - loss: 0.0759 - accuracy: 0.9797 - val_loss: 0.1618 - val_accuracy: 0.9438\n",
      "Epoch 99/200\n",
      "398/398 [==============================] - 1s 3ms/step - loss: 0.0298 - accuracy: 0.9902 - val_loss: 0.1808 - val_accuracy: 0.9101\n",
      "Epoch 100/200\n",
      "398/398 [==============================] - 1s 3ms/step - loss: 0.0191 - accuracy: 0.9953 - val_loss: 0.2167 - val_accuracy: 0.9213\n",
      "Epoch 101/200\n",
      "398/398 [==============================] - 1s 3ms/step - loss: 0.0312 - accuracy: 0.9844 - val_loss: 0.2290 - val_accuracy: 0.9213\n",
      "Epoch 102/200\n",
      "398/398 [==============================] - 1s 3ms/step - loss: 0.0216 - accuracy: 0.9940 - val_loss: 0.1812 - val_accuracy: 0.9438\n",
      "Epoch 103/200\n",
      "398/398 [==============================] - 1s 3ms/step - loss: 0.0735 - accuracy: 0.9823 - val_loss: 0.1893 - val_accuracy: 0.9663\n",
      "Epoch 104/200\n",
      "398/398 [==============================] - 1s 3ms/step - loss: 0.0217 - accuracy: 0.9880 - val_loss: 0.2312 - val_accuracy: 0.9438\n",
      "Epoch 105/200\n",
      "398/398 [==============================] - 1s 3ms/step - loss: 0.0574 - accuracy: 0.9871 - val_loss: 0.1639 - val_accuracy: 0.9663\n",
      "Epoch 106/200\n",
      "398/398 [==============================] - 1s 3ms/step - loss: 0.0572 - accuracy: 0.9790 - val_loss: 0.2416 - val_accuracy: 0.9438\n",
      "Epoch 107/200\n",
      "398/398 [==============================] - 1s 3ms/step - loss: 0.0524 - accuracy: 0.9823 - val_loss: 0.2265 - val_accuracy: 0.9438\n",
      "Epoch 108/200\n",
      "398/398 [==============================] - 1s 3ms/step - loss: 0.0333 - accuracy: 0.9912 - val_loss: 0.2824 - val_accuracy: 0.9551\n",
      "Epoch 109/200\n",
      "398/398 [==============================] - 1s 3ms/step - loss: 0.0418 - accuracy: 0.9911 - val_loss: 0.2885 - val_accuracy: 0.9551\n",
      "Epoch 110/200\n",
      "398/398 [==============================] - 1s 3ms/step - loss: 0.0447 - accuracy: 0.9814 - val_loss: 0.2129 - val_accuracy: 0.9551\n",
      "Epoch 111/200\n",
      "398/398 [==============================] - 1s 3ms/step - loss: 0.0173 - accuracy: 0.9924 - val_loss: 0.2294 - val_accuracy: 0.9551\n",
      "Epoch 112/200\n",
      "398/398 [==============================] - 1s 3ms/step - loss: 0.0435 - accuracy: 0.9870 - val_loss: 0.3803 - val_accuracy: 0.9438\n",
      "Epoch 113/200\n",
      "398/398 [==============================] - 1s 3ms/step - loss: 0.0484 - accuracy: 0.9846 - val_loss: 0.3379 - val_accuracy: 0.9551\n",
      "Epoch 114/200\n",
      "398/398 [==============================] - 1s 3ms/step - loss: 0.0475 - accuracy: 0.9946 - val_loss: 0.2293 - val_accuracy: 0.9438\n"
     ]
    },
    {
     "name": "stdout",
     "output_type": "stream",
     "text": [
      "Epoch 115/200\n",
      "398/398 [==============================] - 1s 3ms/step - loss: 0.0675 - accuracy: 0.9810 - val_loss: 0.3157 - val_accuracy: 0.9551\n",
      "Epoch 116/200\n",
      "398/398 [==============================] - 1s 3ms/step - loss: 0.0706 - accuracy: 0.9801 - val_loss: 0.2337 - val_accuracy: 0.9663\n",
      "Epoch 117/200\n",
      "398/398 [==============================] - 1s 3ms/step - loss: 0.0188 - accuracy: 0.9958 - val_loss: 0.2123 - val_accuracy: 0.9551\n",
      "Epoch 118/200\n",
      "398/398 [==============================] - 1s 3ms/step - loss: 0.0545 - accuracy: 0.9839 - val_loss: 0.2523 - val_accuracy: 0.9438\n",
      "Epoch 119/200\n",
      "398/398 [==============================] - 1s 3ms/step - loss: 0.0759 - accuracy: 0.9734 - val_loss: 0.2463 - val_accuracy: 0.9438\n",
      "Epoch 120/200\n",
      "398/398 [==============================] - 1s 3ms/step - loss: 0.0197 - accuracy: 0.9908 - val_loss: 0.2365 - val_accuracy: 0.9551\n",
      "Epoch 121/200\n",
      "398/398 [==============================] - 2s 5ms/step - loss: 0.0206 - accuracy: 0.9930 - val_loss: 0.2602 - val_accuracy: 0.9551\n",
      "Epoch 122/200\n",
      "398/398 [==============================] - 1s 3ms/step - loss: 0.0358 - accuracy: 0.9851 - val_loss: 0.2299 - val_accuracy: 0.9438\n",
      "Epoch 123/200\n",
      "398/398 [==============================] - 1s 3ms/step - loss: 0.0370 - accuracy: 0.9896 - val_loss: 0.1501 - val_accuracy: 0.9663\n",
      "Epoch 124/200\n",
      "398/398 [==============================] - 1s 3ms/step - loss: 0.0575 - accuracy: 0.9854 - val_loss: 0.1429 - val_accuracy: 0.9663\n",
      "Epoch 125/200\n",
      "398/398 [==============================] - 1s 3ms/step - loss: 0.0338 - accuracy: 0.9884 - val_loss: 0.1386 - val_accuracy: 0.9551\n",
      "Epoch 126/200\n",
      "398/398 [==============================] - 1s 3ms/step - loss: 0.0561 - accuracy: 0.9840 - val_loss: 0.1525 - val_accuracy: 0.9551\n",
      "Epoch 127/200\n",
      "398/398 [==============================] - 1s 3ms/step - loss: 0.0417 - accuracy: 0.9883 - val_loss: 0.1950 - val_accuracy: 0.9326\n",
      "Epoch 128/200\n",
      "398/398 [==============================] - 1s 3ms/step - loss: 0.0067 - accuracy: 0.9970 - val_loss: 0.1788 - val_accuracy: 0.9551\n",
      "Epoch 129/200\n",
      "398/398 [==============================] - 1s 3ms/step - loss: 0.0400 - accuracy: 0.9857 - val_loss: 0.1884 - val_accuracy: 0.9326\n",
      "Epoch 130/200\n",
      "398/398 [==============================] - 1s 3ms/step - loss: 0.0191 - accuracy: 0.9913 - val_loss: 0.1801 - val_accuracy: 0.9438\n",
      "Epoch 131/200\n",
      "398/398 [==============================] - 1s 3ms/step - loss: 0.0270 - accuracy: 0.9862 - val_loss: 0.1750 - val_accuracy: 0.9551\n",
      "Epoch 132/200\n",
      "398/398 [==============================] - 1s 3ms/step - loss: 0.0168 - accuracy: 0.9962 - val_loss: 0.2687 - val_accuracy: 0.9438\n",
      "Epoch 133/200\n",
      "398/398 [==============================] - 1s 3ms/step - loss: 0.0236 - accuracy: 0.9943 - val_loss: 0.1928 - val_accuracy: 0.9438\n",
      "Epoch 134/200\n",
      "398/398 [==============================] - 1s 3ms/step - loss: 0.0146 - accuracy: 0.9896 - val_loss: 0.2120 - val_accuracy: 0.9438\n",
      "Epoch 135/200\n",
      "398/398 [==============================] - 1s 3ms/step - loss: 0.0872 - accuracy: 0.9723 - val_loss: 0.1918 - val_accuracy: 0.9551\n",
      "Epoch 136/200\n",
      "398/398 [==============================] - 1s 3ms/step - loss: 0.0325 - accuracy: 0.9906 - val_loss: 0.1701 - val_accuracy: 0.9438\n",
      "Epoch 137/200\n",
      "398/398 [==============================] - 1s 3ms/step - loss: 0.0530 - accuracy: 0.9831 - val_loss: 0.1851 - val_accuracy: 0.9438\n",
      "Epoch 138/200\n",
      "398/398 [==============================] - 1s 3ms/step - loss: 0.0413 - accuracy: 0.9902 - val_loss: 0.1518 - val_accuracy: 0.9551\n",
      "Epoch 139/200\n",
      "398/398 [==============================] - 1s 3ms/step - loss: 0.0184 - accuracy: 0.9928 - val_loss: 0.3976 - val_accuracy: 0.9101\n",
      "Epoch 140/200\n",
      "398/398 [==============================] - 1s 3ms/step - loss: 0.0213 - accuracy: 0.9912 - val_loss: 0.1733 - val_accuracy: 0.9326\n",
      "Epoch 141/200\n",
      "398/398 [==============================] - 1s 3ms/step - loss: 0.0253 - accuracy: 0.9889 - val_loss: 0.2095 - val_accuracy: 0.9551\n",
      "Epoch 142/200\n",
      "398/398 [==============================] - 1s 3ms/step - loss: 0.0538 - accuracy: 0.9737 - val_loss: 0.2312 - val_accuracy: 0.9438\n",
      "Epoch 143/200\n",
      "398/398 [==============================] - 1s 3ms/step - loss: 0.0241 - accuracy: 0.9926 - val_loss: 0.1280 - val_accuracy: 0.9551\n",
      "Epoch 144/200\n",
      "398/398 [==============================] - 1s 3ms/step - loss: 0.0211 - accuracy: 0.9916 - val_loss: 0.1377 - val_accuracy: 0.9663\n",
      "Epoch 145/200\n",
      "398/398 [==============================] - 1s 3ms/step - loss: 0.0274 - accuracy: 0.9825 - val_loss: 0.1257 - val_accuracy: 0.9663\n",
      "Epoch 146/200\n",
      "398/398 [==============================] - 1s 3ms/step - loss: 0.0521 - accuracy: 0.9817 - val_loss: 0.2266 - val_accuracy: 0.9551\n",
      "Epoch 147/200\n",
      "398/398 [==============================] - 1s 3ms/step - loss: 0.0180 - accuracy: 0.9955 - val_loss: 0.1540 - val_accuracy: 0.9663\n",
      "Epoch 148/200\n",
      "398/398 [==============================] - 1s 3ms/step - loss: 0.0388 - accuracy: 0.9800 - val_loss: 0.2747 - val_accuracy: 0.9438\n",
      "Epoch 149/200\n",
      "398/398 [==============================] - 1s 3ms/step - loss: 0.0321 - accuracy: 0.9923 - val_loss: 0.2911 - val_accuracy: 0.9551\n",
      "Epoch 150/200\n",
      "398/398 [==============================] - 1s 3ms/step - loss: 0.0157 - accuracy: 0.9967 - val_loss: 0.3010 - val_accuracy: 0.9551\n",
      "Epoch 151/200\n",
      "398/398 [==============================] - 1s 3ms/step - loss: 0.0582 - accuracy: 0.9807 - val_loss: 0.1621 - val_accuracy: 0.9551\n",
      "Epoch 152/200\n",
      "398/398 [==============================] - 1s 3ms/step - loss: 0.0150 - accuracy: 0.9963 - val_loss: 0.1915 - val_accuracy: 0.9551\n",
      "Epoch 153/200\n",
      "398/398 [==============================] - 1s 3ms/step - loss: 0.0282 - accuracy: 0.9895 - val_loss: 0.1628 - val_accuracy: 0.9438\n",
      "Epoch 154/200\n",
      "398/398 [==============================] - 1s 3ms/step - loss: 0.0072 - accuracy: 0.9972 - val_loss: 0.1505 - val_accuracy: 0.9551\n",
      "Epoch 155/200\n",
      "398/398 [==============================] - 1s 3ms/step - loss: 0.0267 - accuracy: 0.9910 - val_loss: 0.3079 - val_accuracy: 0.9663\n",
      "Epoch 156/200\n",
      "398/398 [==============================] - 1s 3ms/step - loss: 0.0191 - accuracy: 0.9911 - val_loss: 0.1480 - val_accuracy: 0.9551\n",
      "Epoch 157/200\n",
      "398/398 [==============================] - 1s 3ms/step - loss: 0.0418 - accuracy: 0.9902 - val_loss: 0.1269 - val_accuracy: 0.9551\n",
      "Epoch 158/200\n",
      "398/398 [==============================] - 1s 3ms/step - loss: 0.0286 - accuracy: 0.9923 - val_loss: 0.1673 - val_accuracy: 0.9551\n",
      "Epoch 159/200\n",
      "398/398 [==============================] - 1s 3ms/step - loss: 0.0327 - accuracy: 0.9903 - val_loss: 0.1942 - val_accuracy: 0.9438\n",
      "Epoch 160/200\n",
      "398/398 [==============================] - 1s 3ms/step - loss: 0.0494 - accuracy: 0.9874 - val_loss: 0.1507 - val_accuracy: 0.9663\n",
      "Epoch 161/200\n",
      "398/398 [==============================] - 1s 3ms/step - loss: 0.0149 - accuracy: 0.9959 - val_loss: 0.2730 - val_accuracy: 0.9326\n",
      "Epoch 162/200\n",
      "398/398 [==============================] - 1s 3ms/step - loss: 0.0246 - accuracy: 0.9878 - val_loss: 0.2378 - val_accuracy: 0.9438\n",
      "Epoch 163/200\n",
      "398/398 [==============================] - 1s 3ms/step - loss: 0.0263 - accuracy: 0.9900 - val_loss: 0.1835 - val_accuracy: 0.9551\n",
      "Epoch 164/200\n",
      "398/398 [==============================] - 1s 3ms/step - loss: 0.0553 - accuracy: 0.9950 - val_loss: 0.2826 - val_accuracy: 0.9551\n",
      "Epoch 165/200\n",
      "398/398 [==============================] - 1s 3ms/step - loss: 0.0516 - accuracy: 0.9862 - val_loss: 0.2002 - val_accuracy: 0.9326\n",
      "Epoch 166/200\n",
      "398/398 [==============================] - 1s 3ms/step - loss: 0.0160 - accuracy: 0.9969 - val_loss: 0.1811 - val_accuracy: 0.9326\n",
      "Epoch 167/200\n",
      "398/398 [==============================] - 1s 3ms/step - loss: 0.0281 - accuracy: 0.9915 - val_loss: 0.1711 - val_accuracy: 0.9438\n",
      "Epoch 168/200\n",
      "398/398 [==============================] - 1s 3ms/step - loss: 0.0262 - accuracy: 0.9910 - val_loss: 0.2585 - val_accuracy: 0.9551\n",
      "Epoch 169/200\n",
      "398/398 [==============================] - 1s 3ms/step - loss: 0.0251 - accuracy: 0.9943 - val_loss: 0.1897 - val_accuracy: 0.9551\n",
      "Epoch 170/200\n",
      "398/398 [==============================] - 1s 3ms/step - loss: 0.0051 - accuracy: 0.9977 - val_loss: 0.2501 - val_accuracy: 0.9438\n",
      "Epoch 171/200\n"
     ]
    },
    {
     "name": "stdout",
     "output_type": "stream",
     "text": [
      "398/398 [==============================] - 1s 3ms/step - loss: 0.0106 - accuracy: 0.9963 - val_loss: 0.2728 - val_accuracy: 0.9438\n",
      "Epoch 172/200\n",
      "398/398 [==============================] - 1s 3ms/step - loss: 0.0349 - accuracy: 0.9901 - val_loss: 0.2370 - val_accuracy: 0.9326\n",
      "Epoch 173/200\n",
      "398/398 [==============================] - 1s 3ms/step - loss: 0.0395 - accuracy: 0.9868 - val_loss: 0.1963 - val_accuracy: 0.9326\n",
      "Epoch 174/200\n",
      "398/398 [==============================] - 1s 3ms/step - loss: 0.0100 - accuracy: 0.9977 - val_loss: 0.2117 - val_accuracy: 0.9438\n",
      "Epoch 175/200\n",
      "398/398 [==============================] - 1s 3ms/step - loss: 0.0220 - accuracy: 0.9933 - val_loss: 0.2035 - val_accuracy: 0.9438\n",
      "Epoch 176/200\n",
      "398/398 [==============================] - 1s 3ms/step - loss: 0.0236 - accuracy: 0.9906 - val_loss: 0.2509 - val_accuracy: 0.9326\n",
      "Epoch 177/200\n",
      "398/398 [==============================] - 1s 3ms/step - loss: 0.0140 - accuracy: 0.9898 - val_loss: 0.3394 - val_accuracy: 0.9326\n",
      "Epoch 178/200\n",
      "398/398 [==============================] - 1s 3ms/step - loss: 0.0159 - accuracy: 0.9914 - val_loss: 0.2671 - val_accuracy: 0.9438\n",
      "Epoch 179/200\n",
      "398/398 [==============================] - 1s 3ms/step - loss: 0.0219 - accuracy: 0.9883 - val_loss: 0.2692 - val_accuracy: 0.9551\n",
      "Epoch 180/200\n",
      "398/398 [==============================] - 1s 3ms/step - loss: 0.0126 - accuracy: 0.9925 - val_loss: 0.4060 - val_accuracy: 0.9438\n",
      "Epoch 181/200\n",
      "398/398 [==============================] - 1s 3ms/step - loss: 0.0349 - accuracy: 0.9927 - val_loss: 0.3065 - val_accuracy: 0.9326\n",
      "Epoch 182/200\n",
      "398/398 [==============================] - 1s 3ms/step - loss: 0.0344 - accuracy: 0.9909 - val_loss: 0.2969 - val_accuracy: 0.9326\n",
      "Epoch 183/200\n",
      "398/398 [==============================] - 1s 3ms/step - loss: 0.0530 - accuracy: 0.9883 - val_loss: 0.3114 - val_accuracy: 0.9438\n",
      "Epoch 184/200\n",
      "398/398 [==============================] - 1s 3ms/step - loss: 0.0182 - accuracy: 0.9948 - val_loss: 0.3241 - val_accuracy: 0.8764\n",
      "Epoch 185/200\n",
      "398/398 [==============================] - 1s 3ms/step - loss: 0.0067 - accuracy: 0.9982 - val_loss: 0.4229 - val_accuracy: 0.9438\n",
      "Epoch 186/200\n",
      "398/398 [==============================] - 1s 3ms/step - loss: 0.0117 - accuracy: 0.9977 - val_loss: 0.4377 - val_accuracy: 0.9438\n",
      "Epoch 187/200\n",
      "398/398 [==============================] - 1s 3ms/step - loss: 0.0124 - accuracy: 0.9972 - val_loss: 0.3319 - val_accuracy: 0.9438\n",
      "Epoch 188/200\n",
      "398/398 [==============================] - 1s 3ms/step - loss: 0.0199 - accuracy: 0.9888 - val_loss: 0.4686 - val_accuracy: 0.9213\n",
      "Epoch 189/200\n",
      "398/398 [==============================] - 1s 3ms/step - loss: 0.0549 - accuracy: 0.9864 - val_loss: 0.2824 - val_accuracy: 0.9551\n",
      "Epoch 190/200\n",
      "398/398 [==============================] - 1s 3ms/step - loss: 0.0499 - accuracy: 0.9934 - val_loss: 0.4152 - val_accuracy: 0.9213\n",
      "Epoch 191/200\n",
      "398/398 [==============================] - 1s 3ms/step - loss: 0.0502 - accuracy: 0.9808 - val_loss: 0.3325 - val_accuracy: 0.8989\n",
      "Epoch 192/200\n",
      "398/398 [==============================] - 1s 3ms/step - loss: 0.0305 - accuracy: 0.9917 - val_loss: 0.3777 - val_accuracy: 0.9438\n",
      "Epoch 193/200\n",
      "398/398 [==============================] - 1s 3ms/step - loss: 0.0268 - accuracy: 0.9931 - val_loss: 0.4379 - val_accuracy: 0.9438\n",
      "Epoch 194/200\n",
      "398/398 [==============================] - 1s 3ms/step - loss: 0.0432 - accuracy: 0.9862 - val_loss: 0.2701 - val_accuracy: 0.9326\n",
      "Epoch 195/200\n",
      "398/398 [==============================] - 1s 3ms/step - loss: 0.0195 - accuracy: 0.9930 - val_loss: 0.4471 - val_accuracy: 0.9326\n",
      "Epoch 196/200\n",
      "398/398 [==============================] - 1s 3ms/step - loss: 0.0231 - accuracy: 0.9941 - val_loss: 0.4141 - val_accuracy: 0.9326\n",
      "Epoch 197/200\n",
      "398/398 [==============================] - 1s 3ms/step - loss: 0.0050 - accuracy: 0.9984 - val_loss: 0.4232 - val_accuracy: 0.9326\n",
      "Epoch 198/200\n",
      "398/398 [==============================] - 1s 3ms/step - loss: 0.0283 - accuracy: 0.9918 - val_loss: 0.3591 - val_accuracy: 0.9438\n",
      "Epoch 199/200\n",
      "398/398 [==============================] - 1s 3ms/step - loss: 0.0491 - accuracy: 0.9857 - val_loss: 0.3149 - val_accuracy: 0.9438\n",
      "Epoch 200/200\n",
      "398/398 [==============================] - 1s 3ms/step - loss: 0.0494 - accuracy: 0.9837 - val_loss: 0.4158 - val_accuracy: 0.9438\n"
     ]
    },
    {
     "data": {
      "text/plain": [
       "<tensorflow.python.keras.callbacks.History at 0x7fec01a2de80>"
      ]
     },
     "execution_count": 369,
     "metadata": {},
     "output_type": "execute_result"
    }
   ],
   "source": [
    "EPOCHS = 200\n",
    "model = get_model()\n",
    "model.fit(x=X_train, y=y_train, epochs=EPOCHS, batch_size=BATCH_SIZE, validation_split=0.1)"
   ]
  },
  {
   "cell_type": "code",
   "execution_count": 370,
   "id": "1e9d88b4",
   "metadata": {},
   "outputs": [],
   "source": [
    "model.save_weights('./weights/naive-nn')"
   ]
  },
  {
   "cell_type": "code",
   "execution_count": 371,
   "id": "a6170176",
   "metadata": {},
   "outputs": [
    {
     "name": "stdout",
     "output_type": "stream",
     "text": [
      "4/4 - 0s - loss: 0.2713 - accuracy: 0.9293\n",
      " loss 0.2713235914707184 accuracy 92.92929172515869\n"
     ]
    }
   ],
   "source": [
    "loss, acc = model.evaluate(tf.convert_to_tensor(X_test), y_test, verbose=2)\n",
    "print(f\" loss {loss} accuracy {acc*100}\")"
   ]
  },
  {
   "cell_type": "code",
   "execution_count": 372,
   "id": "9371f489",
   "metadata": {},
   "outputs": [],
   "source": [
    "preds= model.predict(X_test)"
   ]
  },
  {
   "cell_type": "code",
   "execution_count": 373,
   "id": "e1226642",
   "metadata": {},
   "outputs": [
    {
     "data": {
      "text/plain": [
       "array([[0.],\n",
       "       [1.],\n",
       "       [0.],\n",
       "       [1.],\n",
       "       [1.],\n",
       "       [1.],\n",
       "       [0.],\n",
       "       [0.],\n",
       "       [0.],\n",
       "       [0.],\n",
       "       [0.],\n",
       "       [0.],\n",
       "       [0.],\n",
       "       [0.],\n",
       "       [1.],\n",
       "       [0.],\n",
       "       [0.],\n",
       "       [1.],\n",
       "       [0.],\n",
       "       [1.],\n",
       "       [0.],\n",
       "       [1.],\n",
       "       [1.],\n",
       "       [1.],\n",
       "       [1.],\n",
       "       [0.],\n",
       "       [1.],\n",
       "       [0.],\n",
       "       [0.],\n",
       "       [1.],\n",
       "       [1.],\n",
       "       [1.],\n",
       "       [0.],\n",
       "       [0.],\n",
       "       [1.],\n",
       "       [0.],\n",
       "       [0.],\n",
       "       [1.],\n",
       "       [1.],\n",
       "       [0.],\n",
       "       [0.],\n",
       "       [0.],\n",
       "       [1.],\n",
       "       [1.],\n",
       "       [1.],\n",
       "       [0.],\n",
       "       [0.],\n",
       "       [1.],\n",
       "       [0.],\n",
       "       [1.],\n",
       "       [1.],\n",
       "       [0.],\n",
       "       [0.],\n",
       "       [0.],\n",
       "       [0.],\n",
       "       [0.],\n",
       "       [0.],\n",
       "       [1.],\n",
       "       [0.],\n",
       "       [0.],\n",
       "       [1.],\n",
       "       [1.],\n",
       "       [0.],\n",
       "       [1.],\n",
       "       [0.],\n",
       "       [1.],\n",
       "       [0.],\n",
       "       [1.],\n",
       "       [0.],\n",
       "       [1.],\n",
       "       [0.],\n",
       "       [0.],\n",
       "       [0.],\n",
       "       [0.],\n",
       "       [1.],\n",
       "       [0.],\n",
       "       [1.],\n",
       "       [0.],\n",
       "       [0.],\n",
       "       [0.],\n",
       "       [0.],\n",
       "       [1.],\n",
       "       [0.],\n",
       "       [1.],\n",
       "       [1.],\n",
       "       [1.],\n",
       "       [1.],\n",
       "       [1.],\n",
       "       [1.],\n",
       "       [0.],\n",
       "       [1.],\n",
       "       [1.],\n",
       "       [1.],\n",
       "       [0.],\n",
       "       [0.],\n",
       "       [0.],\n",
       "       [1.],\n",
       "       [0.],\n",
       "       [0.]], dtype=float32)"
      ]
     },
     "execution_count": 373,
     "metadata": {},
     "output_type": "execute_result"
    }
   ],
   "source": [
    "preds.round()"
   ]
  },
  {
   "cell_type": "code",
   "execution_count": 374,
   "id": "e93af828",
   "metadata": {},
   "outputs": [
    {
     "data": {
      "text/plain": [
       "0.9292929292929293"
      ]
     },
     "execution_count": 374,
     "metadata": {},
     "output_type": "execute_result"
    }
   ],
   "source": [
    "from sklearn.metrics import accuracy_score\n",
    "accuracy_score(y_test, preds.round())"
   ]
  },
  {
   "cell_type": "code",
   "execution_count": 375,
   "id": "cb042b50",
   "metadata": {},
   "outputs": [
    {
     "data": {
      "text/plain": [
       "99"
      ]
     },
     "execution_count": 375,
     "metadata": {},
     "output_type": "execute_result"
    }
   ],
   "source": [
    "len(preds)"
   ]
  },
  {
   "cell_type": "code",
   "execution_count": 376,
   "id": "b147c6ef",
   "metadata": {},
   "outputs": [
    {
     "data": {
      "text/plain": [
       "49"
      ]
     },
     "execution_count": 376,
     "metadata": {},
     "output_type": "execute_result"
    }
   ],
   "source": [
    "len(y_test[y_test ==1])"
   ]
  },
  {
   "cell_type": "code",
   "execution_count": 377,
   "id": "558ce569",
   "metadata": {},
   "outputs": [
    {
     "name": "stdout",
     "output_type": "stream",
     "text": [
      "44\n",
      "55\n"
     ]
    }
   ],
   "source": [
    "print(len(np.round(preds)[np.round(preds)==1]))\n",
    "print(len(np.round(preds)[np.round(preds)==0]))"
   ]
  },
  {
   "cell_type": "code",
   "execution_count": null,
   "id": "7693b9ea",
   "metadata": {},
   "outputs": [],
   "source": []
  },
  {
   "cell_type": "code",
   "execution_count": 378,
   "id": "4c406d76",
   "metadata": {},
   "outputs": [
    {
     "data": {
      "text/plain": [
       "array([[49,  1],\n",
       "       [ 6, 43]])"
      ]
     },
     "execution_count": 378,
     "metadata": {},
     "output_type": "execute_result"
    }
   ],
   "source": [
    "import seaborn as sn\n",
    "import matplotlib.pyplot as plt\n",
    "from sklearn.metrics import confusion_matrix\n",
    "\n",
    "confusion_matrix(y_test, preds[:,0].round())"
   ]
  },
  {
   "cell_type": "code",
   "execution_count": null,
   "id": "636341a6",
   "metadata": {},
   "outputs": [],
   "source": []
  }
 ],
 "metadata": {
  "kernelspec": {
   "display_name": "Python 3 (ipykernel)",
   "language": "python",
   "name": "python3"
  },
  "language_info": {
   "codemirror_mode": {
    "name": "ipython",
    "version": 3
   },
   "file_extension": ".py",
   "mimetype": "text/x-python",
   "name": "python",
   "nbconvert_exporter": "python",
   "pygments_lexer": "ipython3",
   "version": "3.9.7"
  }
 },
 "nbformat": 4,
 "nbformat_minor": 5
}
